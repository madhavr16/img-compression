{
  "nbformat": 4,
  "nbformat_minor": 0,
  "metadata": {
    "colab": {
      "provenance": [],
      "authorship_tag": "ABX9TyPhaAp1gla5Eby4As3htaMv",
      "include_colab_link": true
    },
    "kernelspec": {
      "name": "python3",
      "display_name": "Python 3"
    },
    "language_info": {
      "name": "python"
    }
  },
  "cells": [
    {
      "cell_type": "markdown",
      "metadata": {
        "id": "view-in-github",
        "colab_type": "text"
      },
      "source": [
        "<a href=\"https://colab.research.google.com/github/madhavr16/img-compression/blob/main/Untitled6.ipynb\" target=\"_parent\"><img src=\"https://colab.research.google.com/assets/colab-badge.svg\" alt=\"Open In Colab\"/></a>"
      ]
    },
    {
      "cell_type": "code",
      "execution_count": null,
      "metadata": {
        "id": "tv6iAl6jYKet"
      },
      "outputs": [],
      "source": [
        "import numpy as np\n",
        "import matplotlib.pyplot as plt\n",
        "from sklearn.datasets import make_blobs\n",
        "from sklearn.metrics import silhouette_score\n",
        "from PIL import Image\n",
        "import timeit\n",
        "\n",
        "# KMeans function\n",
        "def kmeans(X, k, max_iters=100, init_method='random'):\n",
        "    if init_method == 'random':\n",
        "        centroids = X[np.random.choice(range(X.shape[0]), size=k, replace=False)]\n",
        "    elif init_method == 'kmeans++':\n",
        "        centroids = [X[np.random.choice(range(X.shape[0]))]]\n",
        "        for _ in range(1, k):\n",
        "            dist_sq = np.array([min([np.linalg.norm(x-c)**2 for c in centroids]) for x in X])\n",
        "            probs = dist_sq / dist_sq.sum()\n",
        "            cumulative_probs = probs.cumsum()\n",
        "            r = np.random.rand()\n",
        "            for j, p in enumerate(cumulative_probs):\n",
        "                if r < p:\n",
        "                    i = j\n",
        "                    break\n",
        "            centroids.append(X[i])\n",
        "        centroids = np.array(centroids)\n",
        "\n",
        "    for _ in range(max_iters):\n",
        "        labels = np.argmin(np.linalg.norm(X[:, np.newaxis] - centroids, axis=2), axis=1)\n",
        "        new_centroids = np.array([X[labels == i].mean(axis=0) for i in range(k)])\n",
        "        if np.all(centroids == new_centroids):\n",
        "            break\n",
        "        centroids = new_centroids\n",
        "    return labels, centroids\n",
        "\n",
        "# Load and process image\n",
        "def load_image(image_path):\n",
        "    img = Image.open(image_path)\n",
        "    img = img.convert('RGB')\n",
        "    img_data = np.array(img)\n",
        "    return img_data, img\n",
        "\n",
        "# Compress image using KMeans\n",
        "def compress_image(image_path, k, init_method='random'):\n",
        "    img_data, img = load_image(image_path)\n",
        "    X = img_data.reshape(-1, 3)\n",
        "\n",
        "    start_time = timeit.default_timer()\n",
        "    labels, centroids = kmeans(X, k, init_method=init_method)\n",
        "    end_time = timeit.default_timer()\n",
        "\n",
        "    compressed_img_data = centroids[labels].reshape(img_data.shape).astype(np.uint8)\n",
        "    compressed_img = Image.fromarray(compressed_img_data)\n",
        "\n",
        "    print(f\"Image compressed in {end_time - start_time:.2f} seconds using {init_method} initialization.\")\n",
        "\n",
        "    return compressed_img\n",
        "\n",
        "# Plot original and compressed images\n",
        "def plot_images(original_img, compressed_img):\n",
        "    plt.figure(figsize=(12, 6))\n",
        "\n",
        "    plt.subplot(1, 2, 1)\n",
        "    plt.title(\"Original Image\")\n",
        "    plt.imshow(original_img)\n",
        "\n",
        "    plt.subplot(1, 2, 2)\n",
        "    plt.title(\"Compressed Image\")\n",
        "    plt.imshow(compressed_img)\n",
        "\n",
        "    plt.show()\n",
        "\n",
        "# Main function\n",
        "if __name__ == \"_main_\":\n",
        "    image_path = '/content/Screenshot 2023-03-06 011206.png'  # Change this to your image path\n",
        "    k = 16  # Number of clusters (colors)\n",
        "\n",
        "    original_img = Image.open(image_path).convert('RGB')\n",
        "\n",
        "    compressed_img_kmeanspp = compress_image(image_path, k, init_method='kmeans++')\n",
        "\n",
        "\n",
        "    print(\"KMeans++ Initialization:\")\n",
        "    plot_images(original_img, compressed_img_kmeanspp)"
      ]
    }
  ]
}